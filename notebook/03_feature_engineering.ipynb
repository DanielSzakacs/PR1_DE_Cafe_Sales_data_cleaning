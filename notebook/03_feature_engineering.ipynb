{
 "cells": [
  {
   "cell_type": "markdown",
   "metadata": {},
   "source": [
    "## Transaction Date Features\n",
    "\n",
    "We extract several components from the `Transaction Date` column to enable time-based analysis and grouping.\n"
   ]
  },
  {
   "cell_type": "code",
   "execution_count": 42,
   "metadata": {},
   "outputs": [],
   "source": [
    "import pandas as pd \n",
    "df = pd.read_csv(\"../data/prep/clean_dataset.csv\", parse_dates=[\"Transaction Date\"])"
   ]
  },
  {
   "cell_type": "code",
   "execution_count": 43,
   "metadata": {},
   "outputs": [
    {
     "name": "stdout",
     "output_type": "stream",
     "text": [
      "<class 'pandas.core.frame.DataFrame'>\n",
      "RangeIndex: 9540 entries, 0 to 9539\n",
      "Data columns (total 8 columns):\n",
      " #   Column            Non-Null Count  Dtype         \n",
      "---  ------            --------------  -----         \n",
      " 0   Transaction ID    9540 non-null   object        \n",
      " 1   Item              9540 non-null   object        \n",
      " 2   Quantity          9540 non-null   float64       \n",
      " 3   Price Per Unit    9540 non-null   float64       \n",
      " 4   Total Spent       9540 non-null   float64       \n",
      " 5   Payment Method    9540 non-null   object        \n",
      " 6   Location          9540 non-null   object        \n",
      " 7   Transaction Date  9540 non-null   datetime64[ns]\n",
      "dtypes: datetime64[ns](1), float64(3), object(4)\n",
      "memory usage: 596.4+ KB\n"
     ]
    }
   ],
   "source": [
    "df.info()"
   ]
  },
  {
   "cell_type": "code",
   "execution_count": 44,
   "metadata": {},
   "outputs": [],
   "source": [
    "df['Transaction Year'] = df['Transaction Date'].dt.year\n",
    "df['Transaction Month'] = df['Transaction Date'].dt.month\n",
    "df['Transaction Day'] = df['Transaction Date'].dt.day\n",
    "df['Transaction Weekday'] = df['Transaction Date'].dt.weekday  # 0=Monday\n",
    "df['Is Weekend'] = df['Transaction Weekday'].isin([5, 6])"
   ]
  },
  {
   "cell_type": "markdown",
   "metadata": {},
   "source": [
    "## Price and Item-Based Features\n",
    "\n",
    "We calculate unit prices, classify spending levels, and categorize items into broader food/drink categories. This helps in customer segmentation and item preference analysis."
   ]
  },
  {
   "cell_type": "code",
   "execution_count": null,
   "metadata": {},
   "outputs": [],
   "source": [
    "df[\"Calculated Price per Unit\"] = df[\"Total Spent\"] / df[\"Quantity\"]\n",
    "\n",
    "# Create categories based on the spend\n",
    "df[\"Spend Level\"] = pd.cut(df[\"Total Spent\"], bins=[0, 8, 10, 20, 40], labels=[\"Low\", \"Medium\", \"High\", \"Very High\"])\n",
    "\n",
    "# Create category based on the Item\n",
    "df[\"Item Category\"] = df[\"Item\"].str.lower().map({\n",
    "       \"coffee\": \"Drink\",\n",
    "       \"juice\": \"Drink\",\n",
    "       \"tea\": \"Drink\",\n",
    "       \"smoothie\": \"Drink\",\n",
    "\n",
    "       \"cake\": \"Food\",\n",
    "       \"cookie\": \"Food\",\n",
    "       \"salad\": \"Food\",\n",
    "       \"sandwich\": \"Food\",\n",
    "})"
   ]
  },
  {
   "cell_type": "markdown",
   "metadata": {},
   "source": [
    "## Save prep dataset"
   ]
  },
  {
   "cell_type": "code",
   "execution_count": 51,
   "metadata": {},
   "outputs": [],
   "source": [
    "import os\n",
    "\n",
    "target_path = \"../data/features\"\n",
    "if not os.path.exists(target_path):\n",
    "    os.makedirs(target_path)\n",
    "\n",
    "df.to_csv(f\"{target_path}/prep_dataset.csv\", index=False)"
   ]
  },
  {
   "cell_type": "markdown",
   "metadata": {},
   "source": []
  }
 ],
 "metadata": {
  "kernelspec": {
   "display_name": "venv",
   "language": "python",
   "name": "python3"
  },
  "language_info": {
   "codemirror_mode": {
    "name": "ipython",
    "version": 3
   },
   "file_extension": ".py",
   "mimetype": "text/x-python",
   "name": "python",
   "nbconvert_exporter": "python",
   "pygments_lexer": "ipython3",
   "version": "3.11.5"
  }
 },
 "nbformat": 4,
 "nbformat_minor": 2
}
